{
 "cells": [
  {
   "cell_type": "code",
   "execution_count": 7,
   "id": "f1e29561-367f-43df-897e-d159f553021d",
   "metadata": {
    "collapsed": true,
    "jupyter": {
     "outputs_hidden": true
    }
   },
   "outputs": [
    {
     "name": "stdout",
     "output_type": "stream",
     "text": [
      "Requirement already satisfied: indexify in /Users/diptanuc/Projects/indexify-extractors/ve/lib/python3.12/site-packages (0.0.14)\n",
      "Collecting langchain\n",
      "  Downloading langchain-0.1.16-py3-none-any.whl.metadata (13 kB)\n",
      "Collecting langchain_openai\n",
      "  Downloading langchain_openai-0.1.3-py3-none-any.whl.metadata (2.5 kB)\n",
      "Requirement already satisfied: httpx<0.27,>=0.26 in /Users/diptanuc/Projects/indexify-extractors/ve/lib/python3.12/site-packages (from httpx[http2]<0.27,>=0.26->indexify) (0.26.0)\n",
      "Requirement already satisfied: PyYAML>=5.3 in /Users/diptanuc/Projects/indexify-extractors/ve/lib/python3.12/site-packages (from langchain) (6.0.1)\n",
      "Collecting SQLAlchemy<3,>=1.4 (from langchain)\n",
      "  Using cached SQLAlchemy-2.0.29-cp312-cp312-macosx_11_0_arm64.whl.metadata (9.6 kB)\n",
      "Collecting aiohttp<4.0.0,>=3.8.3 (from langchain)\n",
      "  Downloading aiohttp-3.9.4-cp312-cp312-macosx_11_0_arm64.whl.metadata (7.5 kB)\n",
      "Collecting dataclasses-json<0.7,>=0.5.7 (from langchain)\n",
      "  Using cached dataclasses_json-0.6.4-py3-none-any.whl.metadata (25 kB)\n",
      "Collecting jsonpatch<2.0,>=1.33 (from langchain)\n",
      "  Using cached jsonpatch-1.33-py2.py3-none-any.whl.metadata (3.0 kB)\n",
      "Collecting langchain-community<0.1,>=0.0.32 (from langchain)\n",
      "  Downloading langchain_community-0.0.32-py3-none-any.whl.metadata (8.5 kB)\n",
      "Collecting langchain-core<0.2.0,>=0.1.42 (from langchain)\n",
      "  Downloading langchain_core-0.1.42-py3-none-any.whl.metadata (5.9 kB)\n",
      "Collecting langchain-text-splitters<0.1,>=0.0.1 (from langchain)\n",
      "  Using cached langchain_text_splitters-0.0.1-py3-none-any.whl.metadata (2.0 kB)\n",
      "Collecting langsmith<0.2.0,>=0.1.17 (from langchain)\n",
      "  Downloading langsmith-0.1.47-py3-none-any.whl.metadata (13 kB)\n",
      "Requirement already satisfied: numpy<2,>=1 in /Users/diptanuc/Projects/indexify-extractors/ve/lib/python3.12/site-packages (from langchain) (1.26.4)\n",
      "Requirement already satisfied: pydantic<3,>=1 in /Users/diptanuc/Projects/indexify-extractors/ve/lib/python3.12/site-packages (from langchain) (2.6.4)\n",
      "Requirement already satisfied: requests<3,>=2 in /Users/diptanuc/Projects/indexify-extractors/ve/lib/python3.12/site-packages (from langchain) (2.31.0)\n",
      "Collecting tenacity<9.0.0,>=8.1.0 (from langchain)\n",
      "  Using cached tenacity-8.2.3-py3-none-any.whl.metadata (1.0 kB)\n",
      "Collecting openai<2.0.0,>=1.10.0 (from langchain_openai)\n",
      "  Downloading openai-1.17.1-py3-none-any.whl.metadata (21 kB)\n",
      "Collecting tiktoken<1,>=0.5.2 (from langchain_openai)\n",
      "  Using cached tiktoken-0.6.0-cp312-cp312-macosx_11_0_arm64.whl.metadata (6.6 kB)\n",
      "Collecting aiosignal>=1.1.2 (from aiohttp<4.0.0,>=3.8.3->langchain)\n",
      "  Using cached aiosignal-1.3.1-py3-none-any.whl.metadata (4.0 kB)\n",
      "Requirement already satisfied: attrs>=17.3.0 in /Users/diptanuc/Projects/indexify-extractors/ve/lib/python3.12/site-packages (from aiohttp<4.0.0,>=3.8.3->langchain) (23.2.0)\n",
      "Collecting frozenlist>=1.1.1 (from aiohttp<4.0.0,>=3.8.3->langchain)\n",
      "  Using cached frozenlist-1.4.1-cp312-cp312-macosx_11_0_arm64.whl.metadata (12 kB)\n",
      "Collecting multidict<7.0,>=4.5 (from aiohttp<4.0.0,>=3.8.3->langchain)\n",
      "  Using cached multidict-6.0.5-cp312-cp312-macosx_11_0_arm64.whl.metadata (4.2 kB)\n",
      "Collecting yarl<2.0,>=1.0 (from aiohttp<4.0.0,>=3.8.3->langchain)\n",
      "  Using cached yarl-1.9.4-cp312-cp312-macosx_11_0_arm64.whl.metadata (31 kB)\n",
      "Collecting marshmallow<4.0.0,>=3.18.0 (from dataclasses-json<0.7,>=0.5.7->langchain)\n",
      "  Using cached marshmallow-3.21.1-py3-none-any.whl.metadata (7.2 kB)\n",
      "Collecting typing-inspect<1,>=0.4.0 (from dataclasses-json<0.7,>=0.5.7->langchain)\n",
      "  Using cached typing_inspect-0.9.0-py3-none-any.whl.metadata (1.5 kB)\n",
      "Requirement already satisfied: anyio in /Users/diptanuc/Projects/indexify-extractors/ve/lib/python3.12/site-packages (from httpx<0.27,>=0.26->httpx[http2]<0.27,>=0.26->indexify) (4.3.0)\n",
      "Requirement already satisfied: certifi in /Users/diptanuc/Projects/indexify-extractors/ve/lib/python3.12/site-packages (from httpx<0.27,>=0.26->httpx[http2]<0.27,>=0.26->indexify) (2024.2.2)\n",
      "Requirement already satisfied: httpcore==1.* in /Users/diptanuc/Projects/indexify-extractors/ve/lib/python3.12/site-packages (from httpx<0.27,>=0.26->httpx[http2]<0.27,>=0.26->indexify) (1.0.4)\n",
      "Requirement already satisfied: idna in /Users/diptanuc/Projects/indexify-extractors/ve/lib/python3.12/site-packages (from httpx<0.27,>=0.26->httpx[http2]<0.27,>=0.26->indexify) (3.6)\n",
      "Requirement already satisfied: sniffio in /Users/diptanuc/Projects/indexify-extractors/ve/lib/python3.12/site-packages (from httpx<0.27,>=0.26->httpx[http2]<0.27,>=0.26->indexify) (1.3.1)\n",
      "Requirement already satisfied: h11<0.15,>=0.13 in /Users/diptanuc/Projects/indexify-extractors/ve/lib/python3.12/site-packages (from httpcore==1.*->httpx<0.27,>=0.26->httpx[http2]<0.27,>=0.26->indexify) (0.14.0)\n",
      "Requirement already satisfied: h2<5,>=3 in /Users/diptanuc/Projects/indexify-extractors/ve/lib/python3.12/site-packages (from httpx[http2]<0.27,>=0.26->indexify) (4.1.0)\n",
      "Requirement already satisfied: jsonpointer>=1.9 in /Users/diptanuc/Projects/indexify-extractors/ve/lib/python3.12/site-packages (from jsonpatch<2.0,>=1.33->langchain) (2.4)\n",
      "Collecting packaging<24.0,>=23.2 (from langchain-core<0.2.0,>=0.1.42->langchain)\n",
      "  Using cached packaging-23.2-py3-none-any.whl.metadata (3.2 kB)\n",
      "Collecting orjson<4.0.0,>=3.9.14 (from langsmith<0.2.0,>=0.1.17->langchain)\n",
      "  Downloading orjson-3.10.0-cp312-cp312-macosx_10_15_x86_64.macosx_11_0_arm64.macosx_10_15_universal2.whl.metadata (49 kB)\n",
      "\u001b[2K     \u001b[38;2;114;156;31m━━━━━━━━━━━━━━━━━━━━━━━━━━━━━━━━━━━━━━━━\u001b[0m \u001b[32m49.5/49.5 kB\u001b[0m \u001b[31m1.8 MB/s\u001b[0m eta \u001b[36m0:00:00\u001b[0m\n",
      "\u001b[?25hCollecting distro<2,>=1.7.0 (from openai<2.0.0,>=1.10.0->langchain_openai)\n",
      "  Using cached distro-1.9.0-py3-none-any.whl.metadata (6.8 kB)\n",
      "Requirement already satisfied: tqdm>4 in /Users/diptanuc/Projects/indexify-extractors/ve/lib/python3.12/site-packages (from openai<2.0.0,>=1.10.0->langchain_openai) (4.66.2)\n",
      "Requirement already satisfied: typing-extensions<5,>=4.7 in /Users/diptanuc/Projects/indexify-extractors/ve/lib/python3.12/site-packages (from openai<2.0.0,>=1.10.0->langchain_openai) (4.10.0)\n",
      "Requirement already satisfied: annotated-types>=0.4.0 in /Users/diptanuc/Projects/indexify-extractors/ve/lib/python3.12/site-packages (from pydantic<3,>=1->langchain) (0.6.0)\n",
      "Requirement already satisfied: pydantic-core==2.16.3 in /Users/diptanuc/Projects/indexify-extractors/ve/lib/python3.12/site-packages (from pydantic<3,>=1->langchain) (2.16.3)\n",
      "Requirement already satisfied: charset-normalizer<4,>=2 in /Users/diptanuc/Projects/indexify-extractors/ve/lib/python3.12/site-packages (from requests<3,>=2->langchain) (3.3.2)\n",
      "Requirement already satisfied: urllib3<3,>=1.21.1 in /Users/diptanuc/Projects/indexify-extractors/ve/lib/python3.12/site-packages (from requests<3,>=2->langchain) (2.2.1)\n",
      "Collecting regex>=2022.1.18 (from tiktoken<1,>=0.5.2->langchain_openai)\n",
      "  Using cached regex-2023.12.25-cp312-cp312-macosx_11_0_arm64.whl.metadata (40 kB)\n",
      "Requirement already satisfied: hyperframe<7,>=6.0 in /Users/diptanuc/Projects/indexify-extractors/ve/lib/python3.12/site-packages (from h2<5,>=3->httpx[http2]<0.27,>=0.26->indexify) (6.0.1)\n",
      "Requirement already satisfied: hpack<5,>=4.0 in /Users/diptanuc/Projects/indexify-extractors/ve/lib/python3.12/site-packages (from h2<5,>=3->httpx[http2]<0.27,>=0.26->indexify) (4.0.0)\n",
      "Collecting mypy-extensions>=0.3.0 (from typing-inspect<1,>=0.4.0->dataclasses-json<0.7,>=0.5.7->langchain)\n",
      "  Using cached mypy_extensions-1.0.0-py3-none-any.whl.metadata (1.1 kB)\n",
      "Downloading langchain-0.1.16-py3-none-any.whl (817 kB)\n",
      "\u001b[2K   \u001b[38;2;114;156;31m━━━━━━━━━━━━━━━━━━━━━━━━━━━━━━━━━━━━━━━━\u001b[0m \u001b[32m817.7/817.7 kB\u001b[0m \u001b[31m10.5 MB/s\u001b[0m eta \u001b[36m0:00:00\u001b[0mm eta \u001b[36m0:00:01\u001b[0m36m0:00:01\u001b[0m\n",
      "\u001b[?25hDownloading langchain_openai-0.1.3-py3-none-any.whl (33 kB)\n",
      "Downloading aiohttp-3.9.4-cp312-cp312-macosx_11_0_arm64.whl (392 kB)\n",
      "\u001b[2K   \u001b[38;2;114;156;31m━━━━━━━━━━━━━━━━━━━━━━━━━━━━━━━━━━━━━━━━\u001b[0m \u001b[32m392.2/392.2 kB\u001b[0m \u001b[31m31.2 MB/s\u001b[0m eta \u001b[36m0:00:00\u001b[0m\n",
      "\u001b[?25hUsing cached dataclasses_json-0.6.4-py3-none-any.whl (28 kB)\n",
      "Using cached jsonpatch-1.33-py2.py3-none-any.whl (12 kB)\n",
      "Downloading langchain_community-0.0.32-py3-none-any.whl (1.9 MB)\n",
      "\u001b[2K   \u001b[38;2;114;156;31m━━━━━━━━━━━━━━━━━━━━━━━━━━━━━━━━━━━━━━━━\u001b[0m \u001b[32m1.9/1.9 MB\u001b[0m \u001b[31m26.3 MB/s\u001b[0m eta \u001b[36m0:00:00\u001b[0m31m32.1 MB/s\u001b[0m eta \u001b[36m0:00:01\u001b[0m\n",
      "\u001b[?25hDownloading langchain_core-0.1.42-py3-none-any.whl (287 kB)\n",
      "\u001b[2K   \u001b[38;2;114;156;31m━━━━━━━━━━━━━━━━━━━━━━━━━━━━━━━━━━━━━━━━\u001b[0m \u001b[32m287.5/287.5 kB\u001b[0m \u001b[31m21.4 MB/s\u001b[0m eta \u001b[36m0:00:00\u001b[0m\n",
      "\u001b[?25hUsing cached langchain_text_splitters-0.0.1-py3-none-any.whl (21 kB)\n",
      "Downloading langsmith-0.1.47-py3-none-any.whl (113 kB)\n",
      "\u001b[2K   \u001b[38;2;114;156;31m━━━━━━━━━━━━━━━━━━━━━━━━━━━━━━━━━━━━━━━━\u001b[0m \u001b[32m113.0/113.0 kB\u001b[0m \u001b[31m13.1 MB/s\u001b[0m eta \u001b[36m0:00:00\u001b[0m\n",
      "\u001b[?25hDownloading openai-1.17.1-py3-none-any.whl (268 kB)\n",
      "\u001b[2K   \u001b[38;2;114;156;31m━━━━━━━━━━━━━━━━━━━━━━━━━━━━━━━━━━━━━━━━\u001b[0m \u001b[32m268.3/268.3 kB\u001b[0m \u001b[31m25.0 MB/s\u001b[0m eta \u001b[36m0:00:00\u001b[0m\n",
      "\u001b[?25hUsing cached SQLAlchemy-2.0.29-cp312-cp312-macosx_11_0_arm64.whl (2.1 MB)\n",
      "Using cached tenacity-8.2.3-py3-none-any.whl (24 kB)\n",
      "Using cached tiktoken-0.6.0-cp312-cp312-macosx_11_0_arm64.whl (922 kB)\n",
      "Using cached aiosignal-1.3.1-py3-none-any.whl (7.6 kB)\n",
      "Using cached distro-1.9.0-py3-none-any.whl (20 kB)\n",
      "Using cached frozenlist-1.4.1-cp312-cp312-macosx_11_0_arm64.whl (51 kB)\n",
      "Using cached marshmallow-3.21.1-py3-none-any.whl (49 kB)\n",
      "Using cached multidict-6.0.5-cp312-cp312-macosx_11_0_arm64.whl (29 kB)\n",
      "Downloading orjson-3.10.0-cp312-cp312-macosx_10_15_x86_64.macosx_11_0_arm64.macosx_10_15_universal2.whl (252 kB)\n",
      "\u001b[2K   \u001b[38;2;114;156;31m━━━━━━━━━━━━━━━━━━━━━━━━━━━━━━━━━━━━━━━━\u001b[0m \u001b[32m252.3/252.3 kB\u001b[0m \u001b[31m19.8 MB/s\u001b[0m eta \u001b[36m0:00:00\u001b[0m\n",
      "\u001b[?25hUsing cached packaging-23.2-py3-none-any.whl (53 kB)\n",
      "Using cached regex-2023.12.25-cp312-cp312-macosx_11_0_arm64.whl (292 kB)\n",
      "Using cached typing_inspect-0.9.0-py3-none-any.whl (8.8 kB)\n",
      "Using cached yarl-1.9.4-cp312-cp312-macosx_11_0_arm64.whl (79 kB)\n",
      "Using cached mypy_extensions-1.0.0-py3-none-any.whl (4.7 kB)\n",
      "Installing collected packages: tenacity, SQLAlchemy, regex, packaging, orjson, mypy-extensions, multidict, jsonpatch, frozenlist, distro, yarl, typing-inspect, tiktoken, marshmallow, aiosignal, openai, langsmith, dataclasses-json, aiohttp, langchain-core, langchain-text-splitters, langchain_openai, langchain-community, langchain\n",
      "  Attempting uninstall: packaging\n",
      "    Found existing installation: packaging 24.0\n",
      "    Uninstalling packaging-24.0:\n",
      "      Successfully uninstalled packaging-24.0\n",
      "Successfully installed SQLAlchemy-2.0.29 aiohttp-3.9.4 aiosignal-1.3.1 dataclasses-json-0.6.4 distro-1.9.0 frozenlist-1.4.1 jsonpatch-1.33 langchain-0.1.16 langchain-community-0.0.32 langchain-core-0.1.42 langchain-text-splitters-0.0.1 langchain_openai-0.1.3 langsmith-0.1.47 marshmallow-3.21.1 multidict-6.0.5 mypy-extensions-1.0.0 openai-1.17.1 orjson-3.10.0 packaging-23.2 regex-2023.12.25 tenacity-8.2.3 tiktoken-0.6.0 typing-inspect-0.9.0 yarl-1.9.4\n",
      "Note: you may need to restart the kernel to use updated packages.\n"
     ]
    }
   ],
   "source": [
    "pip install indexify langchain langchain_openai"
   ]
  },
  {
   "cell_type": "markdown",
   "id": "9743ae22-9b3a-4247-9826-cf03fbcade29",
   "metadata": {},
   "source": [
    "### Download Indeixfy and the Yolo Extractor\n",
    "curl https://www.tensorlake.ai | sh\n",
    "\n",
    "1. Start the Server\n",
    "   ```bash\n",
    "    ./indexify server -d\n",
    "    ```\n",
    "\n",
    "3. Download and start the extractor\n",
    "   ```bash\n",
    "    indexify-extractor download hub://image/yolo\n",
    "    indexify-extractor join-server yolo.yolo_extractor:YoloExtractor\n",
    "    ```\n",
    "\n"
   ]
  },
  {
   "cell_type": "code",
   "execution_count": 100,
   "id": "2b6dc1c3-90af-4f53-93a5-07ffb3957ce1",
   "metadata": {},
   "outputs": [],
   "source": [
    "from indexify import IndexifyClient\n",
    "client = IndexifyClient()"
   ]
  },
  {
   "cell_type": "code",
   "execution_count": 101,
   "id": "e6c146f9-6863-406f-ac26-70866cc661fb",
   "metadata": {},
   "outputs": [],
   "source": [
    "client.add_extraction_policy(extractor='tensorlake/yolo-extractor', name=\"object_detection\")"
   ]
  },
  {
   "cell_type": "code",
   "execution_count": 102,
   "id": "0df93f40-eb92-40bf-9742-b7cdd470b166",
   "metadata": {},
   "outputs": [],
   "source": [
    "schema = client.list_schemas()[\"ddls\"][\"ingestion\"]"
   ]
  },
  {
   "cell_type": "code",
   "execution_count": 115,
   "id": "a8197d2c-144b-4932-8c93-ae4233ce8e65",
   "metadata": {},
   "outputs": [],
   "source": [
    "response = client.ingest_remote_file(\"https://extractor-files.diptanu-6d5.workers.dev/images/Central_Park_Lake.jpg\", \"image/png\", {\"location\": \"central park\"})\n",
    "content_id = response['content_id']"
   ]
  },
  {
   "cell_type": "code",
   "execution_count": 116,
   "id": "b762595a-9bc5-4414-ba3a-6ab0f7c609c5",
   "metadata": {},
   "outputs": [],
   "source": [
    "from langchain_core.output_parsers import StrOutputParser\n",
    "from langchain_core.prompts import ChatPromptTemplate\n",
    "from langchain_core.runnables import RunnablePassthrough\n",
    "from langchain_openai import ChatOpenAI\n"
   ]
  },
  {
   "cell_type": "code",
   "execution_count": 117,
   "id": "41a674b7-97a7-4565-ac46-f6cc9a6905b5",
   "metadata": {},
   "outputs": [],
   "source": [
    "def ask(prompt, question):\n",
    "    model = ChatOpenAI()\n",
    "    chain = (\n",
    "        {\"question\": RunnablePassthrough()}\n",
    "        | prompt\n",
    "        | model\n",
    "        | StrOutputParser()\n",
    "    )\n",
    "    return chain.invoke(question)\n",
    "    \n",
    "    "
   ]
  },
  {
   "cell_type": "code",
   "execution_count": 118,
   "id": "767f0154-ed64-4029-a953-e2f33333b32f",
   "metadata": {},
   "outputs": [],
   "source": [
    "def generatate_sql_from_question(question):\n",
    "    template = f\"\"\"\n",
    "    Images are stored in the database with the following schema:\n",
    "    {schema}\n",
    "\n",
    "    fyi. \n",
    "\n",
    "    Generate the SQL query based on the following question below:\n",
    "\n",
    "    \"\"\" + \"Question: {question}\"\n",
    "    prompt = ChatPromptTemplate.from_template(template)\n",
    "    generated_sql = ask(prompt, question)\n",
    "    return generated_sql\n",
    "\n",
    "def run_sql(query):\n",
    "    query_result = client.sql_query(query)\n",
    "    query_result = pformat(query_result.result).replace('{', '').replace('}', '')\n",
    "    return query_result\n",
    "\n",
    "\n",
    "def answer_from_results(question, generated_sql, query_result):\n",
    "    template = f\"\"\"\n",
    "    The question user asked is:\n",
    "    {question}\n",
    "    We ran a database query:  {generated_sql}\n",
    "    The query returned the result: {query_result}\n",
    "\n",
    "    FYI. \n",
    "\n",
    "    \"\"\"\n",
    "    prompt = ChatPromptTemplate.from_template(template)\n",
    "    return ask(prompt, question)\n",
    "\n",
    "def ask_question(question):\n",
    "    sql_query = generatate_sql_from_question(question)\n",
    "    results = run_sql(sql_query)\n",
    "    answer = answer_from_results(question, sql_query, results)\n",
    "    return answer\n",
    "    \n"
   ]
  },
  {
   "cell_type": "code",
   "execution_count": 119,
   "id": "bfefaf2c-367e-431d-8094-029709cdf5b4",
   "metadata": {},
   "outputs": [
    {
     "data": {
      "text/plain": [
       "'There are 13 people in content_id: pibDeT6mnJCdKlOA.'"
      ]
     },
     "execution_count": 119,
     "metadata": {},
     "output_type": "execute_result"
    }
   ],
   "source": [
    "response = ask_question(f\"how many people are in content_id: {content_id}?\")\n",
    "response\n"
   ]
  },
  {
   "cell_type": "code",
   "execution_count": 113,
   "id": "559cca5d-d8d5-4960-b694-2ac877aba485",
   "metadata": {},
   "outputs": [],
   "source": [
    "file_names=[\"skate.jpg\", \"congestion.jpg\", \"bushwick-bred.jpg\", \"141900.jpg\", \"132500.jpg\", \"123801.jpg\",\"120701.jpg\", \"103701.jpg\"]\n",
    "file_urls = [f\"https://extractor-files.diptanu-6d5.workers.dev/images/{file_name}\" for file_name in file_names]\n",
    "for file_url in file_urls:\n",
    "    client.ingest_remote_file(file_url, \"image/png\", {})\n",
    "\n"
   ]
  },
  {
   "cell_type": "code",
   "execution_count": 120,
   "id": "22235d09-466f-4b03-926d-f4ed68a5bfa6",
   "metadata": {},
   "outputs": [
    {
     "name": "stdout",
     "output_type": "stream",
     "text": [
      "Here are the content_id with the number of boats in each photo:\n",
      "- Content_id: uqGr1N8l42o9kfDI, Number of boats: 8\n",
      "- Content_id: Li50p9XKlhfLs9ke, Number of boats: 15\n",
      "- Content_id: -K7LcspteAvmoO3s, Number of boats: 6\n",
      "- Content_id: gBqaqxd7anhHY-yU, Number of boats: 18\n",
      "- Content_id: pibDeT6mnJCdKlOA, Number of boats: 8\n"
     ]
    }
   ],
   "source": [
    "response = ask_question(\"List all the content_id with boat and also print the number of boats in each of the photos?\")\n",
    "print(response)"
   ]
  }
 ],
 "metadata": {
  "kernelspec": {
   "display_name": "Python 3 (ipykernel)",
   "language": "python",
   "name": "python3"
  },
  "language_info": {
   "codemirror_mode": {
    "name": "ipython",
    "version": 3
   },
   "file_extension": ".py",
   "mimetype": "text/x-python",
   "name": "python",
   "nbconvert_exporter": "python",
   "pygments_lexer": "ipython3",
   "version": "3.12.2"
  }
 },
 "nbformat": 4,
 "nbformat_minor": 5
}
