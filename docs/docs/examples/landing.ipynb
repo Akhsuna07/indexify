{
 "cells": [
  {
   "cell_type": "markdown",
   "metadata": {},
   "source": [
    "## **PDF Extraction**\n",
    "We've curated a collection of inspiring examples to showcase the versatility of PDF extraction. Check out these notebooks:\n",
    "\n",
    "#### RAG based Question Answering\n",
    "- [Efficient and supercharged RAG for mixed context texts with Indexify's framework, Gemini's 1M context & Arctic's embeddings](./efficient_rag.ipynb)\n",
    "- [Question Answering from PDF using Indexify and OpenAI](./pdfqa.ipynb)\n",
    "- [Scientific Journals](./Scientific_Journals.ipynb)\n",
    "\n",
    "#### Schema based Extractions\n",
    "- [Schema based HOA Documents](./HOA_Invoice_Data_Extraction.ipynb)\n",
    "- [SEC 10-K docs](./SEC_10_K_docs.ipynb)\n",
    "\n",
    "#### LLM based Extractions\n",
    "- [Entity Recognition from PDF using Indexify and Gemini](https://colab.research.google.com/drive/1gHru2qjEhl4cmAOTQMj7unHnQACCh7We?usp=sharing)\n",
    "- [Invoices](./Invoices.ipynb): Extract and analyze invoice data like a pro!\n",
    "\n",
    "#### Terms and Condition Documents\n",
    "- [Multi-state Terms Documents](./Sixt.ipynb)\n",
    "- [Terms and Condition Documents of Car Rental](./Terms_and_Condition_Documents_of_Car_Rental.ipynb): Navigate the complex world of car rental agreements with ease.\n",
    "- [Terms and Conditions Documents of Health Care Benefits](./Terms_and_Conditions_Documents_of_Health_Care_Benefits.ipynb): Demystify health care benefits and make informed decisions."
   ]
  },
  {
   "cell_type": "markdown",
   "metadata": {},
   "source": [
    "## **Audio Extraction**\n",
    "Check out this inspiring example to showcase the power of audio based extraction:\n",
    "\n",
    "- [ASR Diarization Colab Notebook](https://colab.research.google.com/drive/1aW6DdAkxTQWZcCe1fS0QCVZ6GeQFji2S?usp=sharing): Experience the state-of-the-art ASR + diarization + speculative decoding capabilities.\n",
    "- [RAG using Audio as a Context](./audio_rag.ipynb)\n",
    "- [Transcribing Audio with Indexify](./audio_transcription.ipynb)"
   ]
  },
  {
   "cell_type": "markdown",
   "metadata": {},
   "source": [
    "## **Image & Video Extraction**\n",
    "Check out this inspiring example to showcase the power of image & video based extraction:\n",
    "\n",
    "- [GIF search with MiniLM-L6 and CLIP embeddings](./GifSearch.ipynb)\n",
    "- [Accurate Image RAG using Yolo and CodeGemma](./Image_RAG_Structured_Extraction.ipynb)\n",
    "- [Indexing Images Based on Visual Description](./Moondream_Visual_Description_Index.ipynb)\n",
    "- [RAG using Video as Context](./Video_RAG.ipynb)\n",
    "- [Indexing Video Based on Visual Understanding](./Visual_Understanding_Clip_Yolo.ipynb)"
   ]
  }
 ],
 "metadata": {
  "language_info": {
   "name": "python"
  }
 },
 "nbformat": 4,
 "nbformat_minor": 2
}
