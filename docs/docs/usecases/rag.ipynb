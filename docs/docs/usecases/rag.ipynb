{
 "cells": [
  {
   "cell_type": "code",
   "execution_count": 1,
   "id": "c1eb1947-6679-4f17-81e6-edf09645af76",
   "metadata": {},
   "outputs": [
    {
     "name": "stdout",
     "output_type": "stream",
     "text": [
      "\n",
      "\u001b[1m[\u001b[0m\u001b[34;49mnotice\u001b[0m\u001b[1;39;49m]\u001b[0m\u001b[39;49m A new release of pip is available: \u001b[0m\u001b[31;49m23.3.2\u001b[0m\u001b[39;49m -> \u001b[0m\u001b[32;49m24.0\u001b[0m\n",
      "\u001b[1m[\u001b[0m\u001b[34;49mnotice\u001b[0m\u001b[1;39;49m]\u001b[0m\u001b[39;49m To update, run: \u001b[0m\u001b[32;49mpip install --upgrade pip\u001b[0m\n",
      "Note: you may need to restart the kernel to use updated packages.\n"
     ]
    }
   ],
   "source": [
    "%pip install --upgrade --quiet  wikipedia"
   ]
  },
  {
   "cell_type": "code",
   "execution_count": 2,
   "id": "1b557954-0112-4cc6-b8b7-0aeecd6bb821",
   "metadata": {},
   "outputs": [],
   "source": [
    "from langchain_community.document_loaders import WikipediaLoader"
   ]
  },
  {
   "cell_type": "code",
   "execution_count": 6,
   "id": "742ccbae-e287-4590-b962-64ec7d341716",
   "metadata": {},
   "outputs": [],
   "source": [
    "docs = WikipediaLoader(query=\"Kevin Durant\", load_max_docs=2).load()"
   ]
  },
  {
   "cell_type": "code",
   "execution_count": 4,
   "id": "7392249d-f498-4a19-9afd-e6652817fa1a",
   "metadata": {},
   "outputs": [],
   "source": [
    "from indexify import IndexifyClient"
   ]
  },
  {
   "cell_type": "code",
   "execution_count": 8,
   "id": "dc34f407-71c1-4298-9e5d-193056402e7b",
   "metadata": {},
   "outputs": [],
   "source": [
    "client = IndexifyClient()\n",
    "for doc in docs:\n",
    "    client.add_documents(doc.page_content)"
   ]
  },
  {
   "cell_type": "code",
   "execution_count": 9,
   "id": "93fee389-65fe-429f-bec2-b68e6744f17e",
   "metadata": {},
   "outputs": [],
   "source": [
    "client.add_extraction_policy(extractor='tensorlake/minilm-l6', name=\"wikiembedding\")"
   ]
  },
  {
   "cell_type": "code",
   "execution_count": 22,
   "id": "63c9016f-70c7-49e8-9bcd-217955f21dd4",
   "metadata": {},
   "outputs": [
    {
     "data": {
      "text/plain": [
       "[{'name': 'wikiembedding.embedding',\n",
       "  'schema': {'dim': 384, 'distance': 'cosine'}},\n",
       " {'name': 'wikiembedding11.embedding',\n",
       "  'schema': {'dim': 384, 'distance': 'cosine'}}]"
      ]
     },
     "execution_count": 22,
     "metadata": {},
     "output_type": "execute_result"
    }
   ],
   "source": [
    "client.indexes()"
   ]
  },
  {
   "cell_type": "code",
   "execution_count": 24,
   "id": "ea1cba3f-28dc-48c5-a151-6e263ebcf73a",
   "metadata": {},
   "outputs": [
    {
     "data": {
      "text/plain": [
       "[{'content_id': '9de937f591ca8031',\n",
       "  'text': 'of the National Basketball Association (NBA). Widely regarded as one of the greatest players in NBA history, Durant has won two NBA championships, an NBA Most Valuable Player Award, two Finals MVP',\n",
       "  'confidence_score': 0.6943379,\n",
       "  'labels': {}},\n",
       " {'content_id': '703afc0d1ddba600',\n",
       "  'text': 'Kevin Wayne Durant ( də-RANT; born September 29, 1988), also known by his initials KD, is an American professional basketball player for the Phoenix Suns of the National Basketball Association (NBA).',\n",
       "  'confidence_score': 0.69487935,\n",
       "  'labels': {}},\n",
       " {'content_id': '63cd763060fc43b0',\n",
       "  'text': 'Durant was a heavily recruited high school prospect widely regarded as the second-best player in his class. He played one season of college basketball for the Texas Longhorns, where he won numerous',\n",
       "  'confidence_score': 0.72169554,\n",
       "  'labels': {}},\n",
       " {'content_id': '95a32a290253f921',\n",
       "  'text': 'July 4, seven time All-star forward Kevin Durant announced he was leaving the Oklahoma City Thunder to join the Warriors. To clear cap space for Durant, the Warriors traded Andrew Bogut to the',\n",
       "  'confidence_score': 0.7431476,\n",
       "  'labels': {}},\n",
       " {'content_id': 'ddaa0c8a40531f91',\n",
       "  'text': 'Finals, after a record breaking regular-season in 2015–16. With the acquisition of free agent Kevin Durant in the offseason, the Warriors were hailed as a \"superteam\" by the media and fans, forming a',\n",
       "  'confidence_score': 0.8036248,\n",
       "  'labels': {}},\n",
       " {'content_id': 'c39b7926c665b5f1',\n",
       "  'text': 'Off the court, Durant is one of the highest-earning basketball players in the world, due in part to endorsement deals with companies such as Foot Locker and Nike. He has developed a reputation for',\n",
       "  'confidence_score': 0.8270234,\n",
       "  'labels': {}},\n",
       " {'content_id': '36d5a392f4fcb7db',\n",
       "  'text': '(1.83 m) in height while still in middle school (age 10–12). Growing up, Durant wanted to play for his favorite team, the Toronto Raptors, which included his favorite player, Vince Carter. He played',\n",
       "  'confidence_score': 0.8693496,\n",
       "  'labels': {}},\n",
       " {'content_id': 'f1d6e221e45ed23b',\n",
       "  'text': 'the Year Award, been named to ten All-NBA teams (including six First Teams), and selected 14 times as an NBA All-Star. In 2021, Durant was named to the NBA 75th Anniversary Team. As a member of the',\n",
       "  'confidence_score': 0.9291975,\n",
       "  'labels': {}},\n",
       " {'content_id': '514ded6e2ff65ab8',\n",
       "  'text': \"the NBA 75th Anniversary Team. As a member of the U.S. men's national team, Durant has won three gold medals in the Olympics (2012, 2016, and 2020) and is the leading scorer in Team USA's men's\",\n",
       "  'confidence_score': 0.9363874,\n",
       "  'labels': {}},\n",
       " {'content_id': '6b25793f87d3532d',\n",
       "  'text': 'Award at the NBA Awards, the first time a Warrior has won it. Kevin Durant won the NBA Finals MVP award, the third time a Warrior has won it. The Warriors won the Team of the Year Award at the Espy',\n",
       "  'confidence_score': 0.9723774,\n",
       "  'labels': {}},\n",
       " {'content_id': '9ca1d61228d73029',\n",
       "  'text': 'for the third consecutive season. The Warriors became only the second team in NBA history to win 30 road games in back-to-back seasons, joining the 1995–96 and 1996–97 Chicago Bulls. Stephen Curry',\n",
       "  'confidence_score': 1.0105044,\n",
       "  'labels': {}},\n",
       " {'content_id': '7d8674613acf4717',\n",
       "  'text': 'as a \"superteam\" by the media and fans, forming a new All-Star \"Fantastic Four\" of Durant, Stephen Curry, Klay Thompson and Draymond Green. The Warriors broke over 20 NBA records on their way to',\n",
       "  'confidence_score': 1.0374998,\n",
       "  'labels': {}},\n",
       " {'content_id': '56cd8bad10c8cfc2',\n",
       "  'text': 'Year Award, his second win in three years. The Warriors became the fastest team in NBA history to clinch a playoff berth since the playoff format changed in 1984.',\n",
       "  'confidence_score': 1.0446138,\n",
       "  'labels': {}},\n",
       " {'content_id': '911e96d6b426a116',\n",
       "  'text': 'NBA players Michael Beasley, Greivis Vásquez, and Ty Lawson, the first of whom Durant remains friends with to this day. During this time, he began wearing #35 as his jersey number in honor of his AAU',\n",
       "  'confidence_score': 1.0505629,\n",
       "  'labels': {}},\n",
       " {'content_id': 'd1ae2190be6daf7d',\n",
       "  'text': 'Warriors claimed their fifth NBA Championship by beating the Cleveland Cavaliers 4–1 in the NBA Finals, the first time in NBA history two teams have met for a third consecutive year. Golden State',\n",
       "  'confidence_score': 1.0515233,\n",
       "  'labels': {}},\n",
       " {'content_id': '6eaf6417ef95321c',\n",
       "  'text': 'the Oklahoma City Thunder in 2008, before signing with the Golden State Warriors in 2016, winning consecutive NBA championships and NBA Finals MVP Awards in 2017 and 2018. After sustaining an',\n",
       "  'confidence_score': 1.0739851,\n",
       "  'labels': {}},\n",
       " {'content_id': '8fad13e3bc56eab2',\n",
       "  'text': 'for the Texas Longhorns, where he won numerous year-end awards and became the first freshman to be named Naismith College Player of the Year. Durant was selected as the second overall pick by the',\n",
       "  'confidence_score': 1.0796399,\n",
       "  'labels': {}},\n",
       " {'content_id': 'e56fe2c567fb344e',\n",
       "  'text': \"and Nike. He has developed a reputation for philanthropy and regularly leads the league in All-Star votes and jersey sales. In 2018, Durant was among Time's 100 most influential people in the world.\",\n",
       "  'confidence_score': 1.090473,\n",
       "  'labels': {}},\n",
       " {'content_id': '61cddbc545e1ea40',\n",
       "  'text': 'at National Christian Academy and one year at Oak Hill Academy, Durant transferred to Montrose Christian School for his senior year, growing 5 inches (13 cm) before the start of the season and',\n",
       "  'confidence_score': 1.1154343,\n",
       "  'labels': {}},\n",
       " {'content_id': '1d68f92b67e77ef5',\n",
       "  'text': 'consecutive postseason wins in NBA history. They also became the first team in all four major professional sports in America to start 15–0 in the postseason. The Warriors set the best playoff record',\n",
       "  'confidence_score': 1.1162648,\n",
       "  'labels': {}},\n",
       " {'content_id': '3ad11965a93f0f25',\n",
       "  'text': 'Francisco Bay Area. In the climax season of the Warriors’ dynasty, they won their fifth NBA championship, setting the best postseason record in NBA history by going 16–1. This Warriors team is widely',\n",
       "  'confidence_score': 1.1268206,\n",
       "  'labels': {}},\n",
       " {'content_id': '7d0e7c9470dc34e1',\n",
       "  'text': \"and traveled the country with him to basketball tournaments. Durant has a sister, Brianna, and two brothers, Tony and Rayvonne.Durant and his siblings grew up in Prince George's County, Maryland, on\",\n",
       "  'confidence_score': 1.1538215,\n",
       "  'labels': {}},\n",
       " {'content_id': 'ba17bf94b19c4a76',\n",
       "  'text': 'The Warriors set the best playoff record in NBA history by going 16–1 (.941).Golden State won the Pacific Division title and Western Conference Championship for the third consecutive season. The',\n",
       "  'confidence_score': 1.1985033,\n",
       "  'labels': {}},\n",
       " {'content_id': '64d2de1c29dc5add',\n",
       "  'text': 'Durant was born on September 29, 1988, in Washington, D.C., to Wanda (née Durant) and Wayne Pratt. When Durant was an infant, his father deserted the family; Wanda and Wayne eventually divorced, and',\n",
       "  'confidence_score': 1.2076426,\n",
       "  'labels': {}},\n",
       " {'content_id': 'a770b85cfe7cff17',\n",
       "  'text': \"family; Wanda and Wayne eventually divorced, and Durant's grandmother Barbara Davis helped raise him. By age 13, his father reentered his life and traveled the country with him to basketball\",\n",
       "  'confidence_score': 1.2189,\n",
       "  'labels': {}},\n",
       " {'content_id': '164bed970f6739ab',\n",
       "  'text': 'the only team with multiple players named to the All-NBA Team this season, with Curry, Durant and Green all selected. Bob Myers won the Executive of the Year Award, his second win in three years. The',\n",
       "  'confidence_score': 1.2331326,\n",
       "  'labels': {}},\n",
       " {'content_id': 'a29bca2e42ab1c7e',\n",
       "  'text': '300 three-pointers in the regular-season for the second time in NBA history; he finished with 324.Draymond Green won the Defensive Player of the Year Award at the NBA Awards, the first time a Warrior',\n",
       "  'confidence_score': 1.2594438,\n",
       "  'labels': {}},\n",
       " {'content_id': 'b6a1111cc5c13448',\n",
       "  'text': 'won the Team of the Year Award at the Espy Awards. Durant, Stephen Curry, Klay Thompson and Draymond Green were all named to the All-Star Game, the first time Golden State have had four All-Stars and',\n",
       "  'confidence_score': 1.2636219,\n",
       "  'labels': {}},\n",
       " {'content_id': 'e8297e524d8876e4',\n",
       "  'text': '4–0 in the first round, the Utah Jazz 4–0 in the Western Conference semi-finals and the San Antonio Spurs 4–0 in the Western Conference Finals. The Warriors claimed their fifth NBA Championship by',\n",
       "  'confidence_score': 1.2674524,\n",
       "  'labels': {}},\n",
       " {'content_id': 'ee4e60772098b128',\n",
       "  'text': 'by going 16–1. This Warriors team is widely considered one of the greatest team in NBA history. They entered the season as runners-up in the 2016 NBA Finals, after a record breaking regular-season in',\n",
       "  'confidence_score': 1.2839069,\n",
       "  'labels': {}},\n",
       " {'content_id': '633ec66e82fe4c10',\n",
       "  'text': '2016 Olympic Games. The Warriors were the only team with three representatives on the Olympic squad. Stephen Curry withdrew from selection due to injury.On July 4, seven time All-star forward Kevin',\n",
       "  'confidence_score': 1.3023897,\n",
       "  'labels': {}},\n",
       " {'content_id': '440cb3878a01fec2',\n",
       "  'text': 'In the postseason, Golden State clinched the top seed in the playoffs for the third successive year. The Warriors swept the Portland Trail Blazers 4–0 in the first round, the Utah Jazz 4–0 in the',\n",
       "  'confidence_score': 1.3296819,\n",
       "  'labels': {}},\n",
       " {'content_id': '662cd4428e92aea1',\n",
       "  'text': 'met for a third consecutive year. Golden State became the first team ever to start 15–0 in the playoffs and their fifteen straight wins were the most consecutive postseason wins in NBA history. They',\n",
       "  'confidence_score': 1.3310981,\n",
       "  'labels': {}},\n",
       " {'content_id': 'cdad65a08d440be9',\n",
       "  'text': '1995–96 and 1996–97 Chicago Bulls. Stephen Curry set numerous three-point NBA records this season; including most three-pointers made in a single game with 13 and most consecutive games',\n",
       "  'confidence_score': 1.3341216,\n",
       "  'labels': {}},\n",
       " {'content_id': 'ac57da9cb3b28751',\n",
       "  'text': 'was selected as the second overall pick by the Seattle SuperSonics in the 2007 NBA draft. He played nine seasons with the franchise, which became the Oklahoma City Thunder in 2008, before signing',\n",
       "  'confidence_score': 1.3430285,\n",
       "  'labels': {}},\n",
       " {'content_id': 'cef3cd661ae5018b',\n",
       "  'text': '30th pick of the first round. They also acquired the draft rights of swingman Patrick McCaw, the 38th pick of the second round. Warriors forwards Harrison Barnes and Draymond Green and guard Klay',\n",
       "  'confidence_score': 1.3840879,\n",
       "  'labels': {}},\n",
       " {'content_id': '915ad8ce592137d7',\n",
       "  'text': 'The 2016–17 Golden State Warriors season was the 71st season of the franchise in the National Basketball Association (NBA), and its 55th in the San Francisco Bay Area. In the climax season of the',\n",
       "  'confidence_score': 1.3853894,\n",
       "  'labels': {}},\n",
       " {'content_id': '26c00288a1a5b2bf',\n",
       "  'text': 'Harrison Barnes and Draymond Green and guard Klay Thompson were selected to participate on the 2016 USA Basketball National Team that competed in the 2016 Olympic Games. The Warriors were the only',\n",
       "  'confidence_score': 1.4005027,\n",
       "  'labels': {}},\n",
       " {'content_id': '296a3fbd52ea39e4',\n",
       "  'text': 'The 2016 NBA draft was held on June 23, 2016, at the Barclays Center in Brooklyn. The Warriors chose center Damian Jones out of Vanderbilt with the 30th pick of the first round. They also acquired',\n",
       "  'confidence_score': 1.4391892,\n",
       "  'labels': {}},\n",
       " {'content_id': '60b6e1cf4a749910',\n",
       "  'text': 'a single game with 13 and most consecutive games (regular-season and postseason combined) with a made three-pointer with 196. Curry also surpassed 300 three-pointers in the regular-season for the',\n",
       "  'confidence_score': 1.4589089,\n",
       "  'labels': {}},\n",
       " {'content_id': 'a342b2cd85736c85',\n",
       "  'text': 'broke over 20 NBA records on their way to equaling their 2014–15 regular-season record of 67–15, their second most wins in franchise history.',\n",
       "  'confidence_score': 1.4754649,\n",
       "  'labels': {}},\n",
       " {'content_id': '19baf364dadbc889',\n",
       "  'text': 'an NBA Most Valuable Player Award, two Finals MVP Awards, two NBA All-Star Game Most Valuable Player Awards, four NBA scoring titles, the NBA Rookie of the Year Award, been named to ten All-NBA teams',\n",
       "  'confidence_score': 1.4868299,\n",
       "  'labels': {}},\n",
       " {'content_id': 'ac86bd2c3e801249',\n",
       "  'text': 'time Golden State have had four All-Stars and just the eighth time in NBA history a single team has had four players in the game. The Warriors were the only team with multiple players named to the',\n",
       "  'confidence_score': 1.4884465,\n",
       "  'labels': {}},\n",
       " {'content_id': '7b5d3033421cd367',\n",
       "  'text': \"MVP Awards in 2017 and 2018. After sustaining an Achilles injury in the 2019 finals, he joined the Brooklyn Nets as a free agent that summer. Following disagreements with the Nets' front office, he\",\n",
       "  'confidence_score': 1.5150214,\n",
       "  'labels': {}},\n",
       " {'content_id': '20179399f6c0d974',\n",
       "  'text': \"disagreements with the Nets' front office, he requested a trade during the 2022 offseason and was traded to the Phoenix Suns in 2023.\",\n",
       "  'confidence_score': 1.6097175,\n",
       "  'labels': {}},\n",
       " {'content_id': '3ff33d05b54168ba',\n",
       "  'text': \"and is the leading scorer in Team USA's men's Olympic basketball history. He also won gold at the 2010 FIBA World Championship.\",\n",
       "  'confidence_score': 1.6502686,\n",
       "  'labels': {}},\n",
       " {'content_id': '2b829f78196d7762',\n",
       "  'text': 'the University of Texas at Austin. He had visited University of Connecticut and University of North Carolina, and said he considered Duke University, University of Kentucky and University of',\n",
       "  'confidence_score': 1.6786412,\n",
       "  'labels': {}},\n",
       " {'content_id': '47251327cdb6308b',\n",
       "  'text': 'inches (13 cm) before the start of the season and beginning the year at 6 ft 7 in (2.01 m).Prior to the start of the season, he committed to the University of Texas at Austin. He had visited',\n",
       "  'confidence_score': 1.7096609,\n",
       "  'labels': {}},\n",
       " {'content_id': '8989b01899a41bf4',\n",
       "  'text': '#35 as his jersey number in honor of his AAU coach, Charles Craig, who was murdered at the age of 35.After playing two years of high school basketball at National Christian Academy and one year at',\n",
       "  'confidence_score': 1.7172787,\n",
       "  'labels': {}},\n",
       " {'content_id': '566df1fb843ff214',\n",
       "  'text': 'University of Kentucky and University of Louisville. When asked why',\n",
       "  'confidence_score': 1.7362492,\n",
       "  'labels': {}},\n",
       " {'content_id': '9c64234ad2fa91d2',\n",
       "  'text': '=== Preseason ===',\n",
       "  'confidence_score': 1.8032413,\n",
       "  'labels': {}},\n",
       " {'content_id': '9f8f7e7a501e2c57',\n",
       "  'text': 'his favorite player, Vince Carter. He played Amateur Athletic Union (AAU) basketball for several teams in the Maryland area and was teammates with future NBA players Michael Beasley, Greivis Vásquez,',\n",
       "  'confidence_score': 1.8346547,\n",
       "  'labels': {}},\n",
       " {'content_id': '50423b0ef000b5c4',\n",
       "  'text': 'he ventured into acting, appearing in the film Thunderstruck.',\n",
       "  'confidence_score': 1.8725337,\n",
       "  'labels': {}},\n",
       " {'content_id': '6aded9106f19bab2',\n",
       "  'text': \"Time's 100 most influential people in the world. In recent years, he has contributed to The Players' Tribune as both a photographer and writer. In 2012, he ventured into acting, appearing in the film\",\n",
       "  'confidence_score': 1.9736001,\n",
       "  'labels': {}},\n",
       " {'content_id': 'da1271225f802370',\n",
       "  'text': '== Early life ==',\n",
       "  'confidence_score': 2.06255,\n",
       "  'labels': {}},\n",
       " {'content_id': 'dc12a70c9301978d',\n",
       "  'text': '== Season synopsis ==',\n",
       "  'confidence_score': 2.132431,\n",
       "  'labels': {}},\n",
       " {'content_id': '642b00536b459225',\n",
       "  'text': \"grew up in Prince George's County, Maryland, on the eastern outskirts of Washington, D.C. He was unusually tall from a young age, and reached 6 ft 0 in (1.83 m) in height while still in middle school\",\n",
       "  'confidence_score': 2.1604543,\n",
       "  'labels': {}}]"
      ]
     },
     "execution_count": 24,
     "metadata": {},
     "output_type": "execute_result"
    }
   ],
   "source": [
    "client.search_index(\"wikiembedding11.embedding\", \"when did Kevin Durant win his first championship\", 100)"
   ]
  },
  {
   "cell_type": "code",
   "execution_count": 20,
   "id": "52196142-2dc5-448a-ad22-e09f14891887",
   "metadata": {},
   "outputs": [],
   "source": [
    "client.add_extraction_policy(extractor='tensorlake/minilm-l6', name=\"wikiembedding11\", input_params={\"overlap\": 50, \"chunk_size\": 200})"
   ]
  },
  {
   "cell_type": "code",
   "execution_count": 12,
   "id": "c2985ba7-9bfb-40c3-a9c7-3d10544f48e8",
   "metadata": {},
   "outputs": [
    {
     "data": {
      "text/plain": [
       "{'title': 'Kevin Durant',\n",
       " 'summary': \"Kevin Wayne Durant ( də-RANT; born September 29, 1988), also known by his initials KD, is an American professional basketball player for the Phoenix Suns of the National Basketball Association (NBA). Widely regarded as one of the greatest players in NBA history, Durant has won two NBA championships, an NBA Most Valuable Player Award, two Finals MVP Awards, two NBA All-Star Game Most Valuable Player Awards, four NBA scoring titles, the NBA Rookie of the Year Award, been named to ten All-NBA teams (including six First Teams), and selected 14 times as an NBA All-Star. In 2021, Durant was named to the NBA 75th Anniversary Team. As a member of the U.S. men's national team, Durant has won three gold medals in the Olympics (2012, 2016, and 2020) and is the leading scorer in Team USA's men's Olympic basketball history. He also won gold at the 2010 FIBA World Championship.\\nDurant was a heavily recruited high school prospect widely regarded as the second-best player in his class. He played one season of college basketball for the Texas Longhorns, where he won numerous year-end awards and became the first freshman to be named Naismith College Player of the Year. Durant was selected as the second overall pick by the Seattle SuperSonics in the 2007 NBA draft. He played nine seasons with the franchise, which became the Oklahoma City Thunder in 2008, before signing with the Golden State Warriors in 2016, winning consecutive NBA championships and NBA Finals MVP Awards in 2017 and 2018. After sustaining an Achilles injury in the 2019 finals, he joined the Brooklyn Nets as a free agent that summer. Following disagreements with the Nets' front office, he requested a trade during the 2022 offseason and was traded to the Phoenix Suns in 2023.\\nOff the court, Durant is one of the highest-earning basketball players in the world, due in part to endorsement deals with companies such as Foot Locker and Nike. He has developed a reputation for philanthropy and regularly leads the league in All-Star votes and jersey sales. In 2018, Durant was among Time's 100 most influential people in the world. In recent years, he has contributed to The Players' Tribune as both a photographer and writer. In 2012, he ventured into acting, appearing in the film Thunderstruck.\",\n",
       " 'source': 'https://en.wikipedia.org/wiki/Kevin_Durant'}"
      ]
     },
     "execution_count": 12,
     "metadata": {},
     "output_type": "execute_result"
    }
   ],
   "source": [
    "docs[0].metadata"
   ]
  },
  {
   "cell_type": "code",
   "execution_count": 14,
   "id": "f88f28d1-5118-43a8-831d-e444bd356fbe",
   "metadata": {},
   "outputs": [
    {
     "data": {
      "text/plain": [
       "\"Kevin Wayne Durant ( də-RANT; born September 29, 1988), also known by his initials KD, is an American professional basketball player for the Phoenix Suns of the National Basketball Association (NBA). Widely regarded as one of the greatest players in NBA history, Durant has won two NBA championships, an NBA Most Valuable Player Award, two Finals MVP Awards, two NBA All-Star Game Most Valuable Player Awards, four NBA scoring titles, the NBA Rookie of the Year Award, been named to ten All-NBA teams (including six First Teams), and selected 14 times as an NBA All-Star. In 2021, Durant was named to the NBA 75th Anniversary Team. As a member of the U.S. men's national team, Durant has won three gold medals in the Olympics (2012, 2016, and 2020) and is the leading scorer in Team USA's men's Olympic basketball history. He also won gold at the 2010 FIBA World Championship.\\nDurant was a heavily recruited high school prospect widely regarded as the second-best player in his class. He played one season of college basketball for the Texas Longhorns, where he won numerous year-end awards and became the first freshman to be named Naismith College Player of the Year. Durant was selected as the second overall pick by the Seattle SuperSonics in the 2007 NBA draft. He played nine seasons with the franchise, which became the Oklahoma City Thunder in 2008, before signing with the Golden State Warriors in 2016, winning consecutive NBA championships and NBA Finals MVP Awards in 2017 and 2018. After sustaining an Achilles injury in the 2019 finals, he joined the Brooklyn Nets as a free agent that summer. Following disagreements with the Nets' front office, he requested a trade during the 2022 offseason and was traded to the Phoenix Suns in 2023.\\nOff the court, Durant is one of the highest-earning basketball players in the world, due in part to endorsement deals with companies such as Foot Locker and Nike. He has developed a reputation for philanthropy and regularly leads the league in All-Star votes and jersey sales. In 2018, Durant was among Time's 100 most influential people in the world. In recent years, he has contributed to The Players' Tribune as both a photographer and writer. In 2012, he ventured into acting, appearing in the film Thunderstruck.\\n\\n\\n== Early life ==\\nDurant was born on September 29, 1988, in Washington, D.C., to Wanda (née Durant) and Wayne Pratt. When Durant was an infant, his father deserted the family; Wanda and Wayne eventually divorced, and Durant's grandmother Barbara Davis helped raise him. By age 13, his father reentered his life and traveled the country with him to basketball tournaments. Durant has a sister, Brianna, and two brothers, Tony and Rayvonne.Durant and his siblings grew up in Prince George's County, Maryland, on the eastern outskirts of Washington, D.C. He was unusually tall from a young age, and reached 6 ft 0 in (1.83 m) in height while still in middle school (age 10–12). Growing up, Durant wanted to play for his favorite team, the Toronto Raptors, which included his favorite player, Vince Carter. He played Amateur Athletic Union (AAU) basketball for several teams in the Maryland area and was teammates with future NBA players Michael Beasley, Greivis Vásquez, and Ty Lawson, the first of whom Durant remains friends with to this day. During this time, he began wearing #35 as his jersey number in honor of his AAU coach, Charles Craig, who was murdered at the age of 35.After playing two years of high school basketball at National Christian Academy and one year at Oak Hill Academy, Durant transferred to Montrose Christian School for his senior year, growing 5 inches (13 cm) before the start of the season and beginning the year at 6 ft 7 in (2.01 m).Prior to the start of the season, he committed to the University of Texas at Austin. He had visited University of Connecticut and University of North Carolina, and said he considered Duke University, University of Kentucky and University of Louisville. When asked why\""
      ]
     },
     "execution_count": 14,
     "metadata": {},
     "output_type": "execute_result"
    }
   ],
   "source": [
    "docs[0].page_content"
   ]
  },
  {
   "cell_type": "code",
   "execution_count": null,
   "id": "a136d526-452b-4efe-a92d-7e122c4fe9c4",
   "metadata": {},
   "outputs": [],
   "source": []
  }
 ],
 "metadata": {
  "kernelspec": {
   "display_name": "Python 3 (ipykernel)",
   "language": "python",
   "name": "python3"
  },
  "language_info": {
   "codemirror_mode": {
    "name": "ipython",
    "version": 3
   },
   "file_extension": ".py",
   "mimetype": "text/x-python",
   "name": "python",
   "nbconvert_exporter": "python",
   "pygments_lexer": "ipython3",
   "version": "3.12.1"
  }
 },
 "nbformat": 4,
 "nbformat_minor": 5
}
