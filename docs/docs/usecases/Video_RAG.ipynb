{
 "cells": [
  {
   "cell_type": "code",
   "execution_count": 4,
   "id": "6751dae7-4f17-4d4f-9b36-cc57915806d7",
   "metadata": {},
   "outputs": [
    {
     "name": "stdout",
     "output_type": "stream",
     "text": [
      "Collecting pytube\n",
      "  Downloading pytube-15.0.0-py3-none-any.whl.metadata (5.0 kB)\n",
      "Downloading pytube-15.0.0-py3-none-any.whl (57 kB)\n",
      "\u001b[2K   \u001b[38;2;114;156;31m━━━━━━━━━━━━━━━━━━━━━━━━━━━━━━━━━━━━━━━━\u001b[0m \u001b[32m57.6/57.6 kB\u001b[0m \u001b[31m2.0 MB/s\u001b[0m eta \u001b[36m0:00:00\u001b[0m\n",
      "\u001b[?25hInstalling collected packages: pytube\n",
      "Successfully installed pytube-15.0.0\n",
      "\n",
      "\u001b[1m[\u001b[0m\u001b[34;49mnotice\u001b[0m\u001b[1;39;49m]\u001b[0m\u001b[39;49m A new release of pip is available: \u001b[0m\u001b[31;49m23.3.2\u001b[0m\u001b[39;49m -> \u001b[0m\u001b[32;49m24.0\u001b[0m\n",
      "\u001b[1m[\u001b[0m\u001b[34;49mnotice\u001b[0m\u001b[1;39;49m]\u001b[0m\u001b[39;49m To update, run: \u001b[0m\u001b[32;49mpip install --upgrade pip\u001b[0m\n"
     ]
    }
   ],
   "source": [
    "!pip install pytube"
   ]
  },
  {
   "cell_type": "code",
   "execution_count": 18,
   "id": "c62996ab-48fb-4a63-a7de-7223ddb61f77",
   "metadata": {},
   "outputs": [],
   "source": [
    "from pytube import YouTube\n",
    "import os"
   ]
  },
  {
   "cell_type": "code",
   "execution_count": 23,
   "id": "c3197573-7d6a-4741-82fc-4ba9fd15674a",
   "metadata": {},
   "outputs": [],
   "source": [
    "yt = YouTube(\"https://www.youtube.com/watch?v=cplSUhU2avc\")\n",
    "file_name = \"state_of_the_union_2024.mp4\"\n",
    "if not os.path.exists(file_name):\n",
    "    yt.streams.filter(progressive=True, file_extension='mp4').order_by('resolution').desc().first().download(filename=file_name)"
   ]
  },
  {
   "cell_type": "code",
   "execution_count": 24,
   "id": "2b6dc1c3-90af-4f53-93a5-07ffb3957ce1",
   "metadata": {},
   "outputs": [],
   "source": [
    "from indexify import IndexifyClient\n",
    "client = IndexifyClient()"
   ]
  },
  {
   "cell_type": "code",
   "execution_count": 25,
   "id": "a8197d2c-144b-4932-8c93-ae4233ce8e65",
   "metadata": {},
   "outputs": [],
   "source": [
    "client.upload_file(path=file_name)"
   ]
  },
  {
   "cell_type": "code",
   "execution_count": 26,
   "id": "e6c146f9-6863-406f-ac26-70866cc661fb",
   "metadata": {},
   "outputs": [],
   "source": [
    "client.add_extraction_policy(extractor='tensorlake/audio-extractor', name=\"audio_clips_of_videos\")"
   ]
  },
  {
   "cell_type": "code",
   "execution_count": 28,
   "id": "2ee61d2d-1225-4f0b-831e-bd6cd6bc69cf",
   "metadata": {},
   "outputs": [],
   "source": [
    "client.add_extraction_policy(extractor='tensorlake/whisper-asr', name=\"audio-transcription\", content_source='audio_clips_of_videos')"
   ]
  },
  {
   "cell_type": "code",
   "execution_count": 29,
   "id": "7ee6eaea-9ef9-41c6-be5b-8588c2aaacf4",
   "metadata": {},
   "outputs": [],
   "source": [
    "client.add_extraction_policy(extractor='tensorlake/minilm-l6', name=\"transcription-embedding\", content_source='audio-transcription', input_params={'chunk_size': 2000, 'overlap': 200})"
   ]
  },
  {
   "cell_type": "code",
   "execution_count": 32,
   "id": "767f0154-ed64-4029-a953-e2f33333b32f",
   "metadata": {},
   "outputs": [],
   "source": [
    "from indexify_langchain import IndexifyRetriever\n",
    "params = {\"name\": \"transcription-embedding.embedding\", \"top_k\": 50}\n",
    "retriever = IndexifyRetriever(client=client, params=params)"
   ]
  },
  {
   "cell_type": "code",
   "execution_count": 33,
   "id": "284e1c0c-30e1-4b25-a3dd-c6edb6b27593",
   "metadata": {},
   "outputs": [],
   "source": [
    "from langchain_core.output_parsers import StrOutputParser\n",
    "from langchain_core.prompts import ChatPromptTemplate\n",
    "from langchain_core.runnables import RunnablePassthrough\n",
    "from langchain_openai import ChatOpenAI"
   ]
  },
  {
   "cell_type": "code",
   "execution_count": 35,
   "id": "125f6d88-015f-4cf5-8c8f-4006f72438cd",
   "metadata": {},
   "outputs": [],
   "source": [
    "template = \"\"\"Answer the question based only on the following context:\n",
    "{context}\n",
    "\n",
    "Question: {question}\n",
    "\"\"\"\n",
    "prompt = ChatPromptTemplate.from_template(template)\n",
    "\n",
    "model = ChatOpenAI()\n",
    "\n",
    "chain = (\n",
    "    {\"context\": retriever, \"question\": RunnablePassthrough()}\n",
    "    | prompt\n",
    "    | model\n",
    "    | StrOutputParser()\n",
    ")\n"
   ]
  },
  {
   "cell_type": "code",
   "execution_count": 38,
   "id": "1447bdf4-b905-4b5a-bdd0-a79f3fa36008",
   "metadata": {},
   "outputs": [
    {
     "data": {
      "text/plain": [
       "'Biden is taking significant action on climate by cutting carbon emissions in half by 2030, creating clean energy jobs, launching the Climate Corps, and working towards environmental justice. He mentions that the world is facing a climate crisis and that all Americans deserve the freedom to be safe. Biden also mentions that America is safer today than when he took office and provides statistics on murder rates and violent crime decreasing.'"
      ]
     },
     "execution_count": 38,
     "metadata": {},
     "output_type": "execute_result"
    }
   ],
   "source": [
    "chain.invoke(\"Whats biden doing to save climate and the evidences he provides?\")"
   ]
  },
  {
   "cell_type": "code",
   "execution_count": null,
   "id": "559cca5d-d8d5-4960-b694-2ac877aba485",
   "metadata": {},
   "outputs": [],
   "source": []
  }
 ],
 "metadata": {
  "kernelspec": {
   "display_name": "Python 3 (ipykernel)",
   "language": "python",
   "name": "python3"
  },
  "language_info": {
   "codemirror_mode": {
    "name": "ipython",
    "version": 3
   },
   "file_extension": ".py",
   "mimetype": "text/x-python",
   "name": "python",
   "nbconvert_exporter": "python",
   "pygments_lexer": "ipython3",
   "version": "3.12.1"
  }
 },
 "nbformat": 4,
 "nbformat_minor": 5
}
