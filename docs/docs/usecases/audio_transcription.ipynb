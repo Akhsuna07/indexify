{
 "cells": [
  {
   "cell_type": "code",
   "execution_count": 1,
   "id": "43c01def-46d3-472f-bcae-122f5531b98a",
   "metadata": {},
   "outputs": [],
   "source": [
    "from indexify import IndexifyClient\n",
    "client = IndexifyClient(service_url=\"http://100.114.163.163:8900\")"
   ]
  },
  {
   "cell_type": "code",
   "execution_count": 3,
   "id": "a3ab4d9a-fb42-4c63-b1f4-10a72cb5dde9",
   "metadata": {},
   "outputs": [
    {
     "name": "stdout",
     "output_type": "stream",
     "text": [
      "Collecting pandas\n",
      "  Using cached pandas-2.2.1-cp312-cp312-macosx_11_0_arm64.whl.metadata (19 kB)\n",
      "Requirement already satisfied: numpy<2,>=1.26.0 in /Users/diptanuc/Projects/indexify/docs/ve/lib/python3.12/site-packages (from pandas) (1.26.4)\n",
      "Requirement already satisfied: python-dateutil>=2.8.2 in /Users/diptanuc/Projects/indexify/docs/ve/lib/python3.12/site-packages (from pandas) (2.8.2)\n",
      "Collecting pytz>=2020.1 (from pandas)\n",
      "  Using cached pytz-2024.1-py2.py3-none-any.whl.metadata (22 kB)\n",
      "Collecting tzdata>=2022.7 (from pandas)\n",
      "  Using cached tzdata-2024.1-py2.py3-none-any.whl.metadata (1.4 kB)\n",
      "Requirement already satisfied: six>=1.5 in /Users/diptanuc/Projects/indexify/docs/ve/lib/python3.12/site-packages (from python-dateutil>=2.8.2->pandas) (1.16.0)\n",
      "Using cached pandas-2.2.1-cp312-cp312-macosx_11_0_arm64.whl (11.3 MB)\n",
      "Using cached pytz-2024.1-py2.py3-none-any.whl (505 kB)\n",
      "Using cached tzdata-2024.1-py2.py3-none-any.whl (345 kB)\n",
      "Installing collected packages: pytz, tzdata, pandas\n",
      "Successfully installed pandas-2.2.1 pytz-2024.1 tzdata-2024.1\n",
      "\n",
      "\u001b[1m[\u001b[0m\u001b[34;49mnotice\u001b[0m\u001b[1;39;49m]\u001b[0m\u001b[39;49m A new release of pip is available: \u001b[0m\u001b[31;49m23.3.2\u001b[0m\u001b[39;49m -> \u001b[0m\u001b[32;49m24.0\u001b[0m\n",
      "\u001b[1m[\u001b[0m\u001b[34;49mnotice\u001b[0m\u001b[1;39;49m]\u001b[0m\u001b[39;49m To update, run: \u001b[0m\u001b[32;49mpip install --upgrade pip\u001b[0m\n"
     ]
    }
   ],
   "source": [
    "!pip install pandas\n"
   ]
  },
  {
   "cell_type": "code",
   "execution_count": 31,
   "id": "1d51a3dd-ed1a-402f-932b-46b69b20d228",
   "metadata": {},
   "outputs": [
    {
     "name": "stderr",
     "output_type": "stream",
     "text": [
      "/var/folders/lr/j5bzp2894pq9hv33bhl4hkhr0000gn/T/ipykernel_13820/3150347646.py:2: DtypeWarning: Columns (6) have mixed types. Specify dtype option on import or set low_memory=False.\n",
      "  data = pandas.read_csv(\"~/Downloads/oral-arguments-2022-08-03.csv\")\n"
     ]
    },
    {
     "data": {
      "text/plain": [
       "79719"
      ]
     },
     "execution_count": 31,
     "metadata": {},
     "output_type": "execute_result"
    }
   ],
   "source": [
    "import pandas\n",
    "data = pandas.read_csv(\"~/Downloads/oral-arguments-2022-08-03.csv\")\n",
    "len(data)"
   ]
  },
  {
   "cell_type": "code",
   "execution_count": 42,
   "id": "cd048dae-ff3f-4ffb-af12-dad2b88eba97",
   "metadata": {},
   "outputs": [
    {
     "name": "stdout",
     "output_type": "stream",
     "text": [
      "48810\n"
     ]
    },
    {
     "data": {
      "text/plain": [
       "48653"
      ]
     },
     "execution_count": 42,
     "metadata": {},
     "output_type": "execute_result"
    }
   ],
   "source": [
    "data = data[[\"download_url\", \"docket_id\"]]\n",
    "non_empty_download_urls =data[data[\"download_url\"].str.startswith(\"http://\")]\n",
    "print(len(non_empty_download_urls))\n",
    "unique_urls =  non_empty_download_urls.drop_duplicates(subset=['download_url'])\n",
    "len(unique_urls)"
   ]
  },
  {
   "cell_type": "code",
   "execution_count": 67,
   "id": "438e6eb4-aed2-49f0-8d8c-6aabc78072c9",
   "metadata": {},
   "outputs": [],
   "source": [
    "for col in unique_urls[\"download_url\"].head(10):\n",
    "    client.ingest_remote_file(url=col, mime_type=\"audio/mpeg\", labels={})"
   ]
  },
  {
   "cell_type": "code",
   "execution_count": 68,
   "id": "8be29754-1ef7-4cdf-81e7-eaf2555259ba",
   "metadata": {},
   "outputs": [],
   "source": [
    "client.add_extraction_policy(extractor='tensorlake/whisper-asr', name=\"audio-transcription\")"
   ]
  }
 ],
 "metadata": {
  "kernelspec": {
   "display_name": "Python 3 (ipykernel)",
   "language": "python",
   "name": "python3"
  },
  "language_info": {
   "codemirror_mode": {
    "name": "ipython",
    "version": 3
   },
   "file_extension": ".py",
   "mimetype": "text/x-python",
   "name": "python",
   "nbconvert_exporter": "python",
   "pygments_lexer": "ipython3",
   "version": "3.12.1"
  }
 },
 "nbformat": 4,
 "nbformat_minor": 5
}
