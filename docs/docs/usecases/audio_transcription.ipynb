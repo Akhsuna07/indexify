{
 "cells": [
  {
   "cell_type": "code",
   "execution_count": 11,
   "id": "43c01def-46d3-472f-bcae-122f5531b98a",
   "metadata": {},
   "outputs": [],
   "source": [
    "from indexify import IndexifyClient\n",
    "client = IndexifyClient()"
   ]
  },
  {
   "cell_type": "code",
   "execution_count": 15,
   "id": "a3ab4d9a-fb42-4c63-b1f4-10a72cb5dde9",
   "metadata": {},
   "outputs": [
    {
     "data": {
      "text/plain": [
       "{'content_id': 'L8zUQJhxJiDqJiMr'}"
      ]
     },
     "execution_count": 15,
     "metadata": {},
     "output_type": "execute_result"
    }
   ],
   "source": [
    "client.ingest_remote_file(url=\"https://archive.org/download/gov.uscourts.ca4.D-14-0002/gov.uscourts.ca4.D-14-0002.2014-10-28.mp3\", mime_type=\"audio/mpeg\", labels={})"
   ]
  },
  {
   "cell_type": "code",
   "execution_count": 13,
   "id": "8be29754-1ef7-4cdf-81e7-eaf2555259ba",
   "metadata": {},
   "outputs": [],
   "source": [
    "client.add_extraction_policy(extractor='tensorlake/whisper-asr', name=\"audio-transcription\")"
   ]
  },
  {
   "cell_type": "code",
   "execution_count": null,
   "id": "746eb066-a1b3-4aa1-9882-b4e1d2caebea",
   "metadata": {},
   "outputs": [],
   "source": []
  }
 ],
 "metadata": {
  "kernelspec": {
   "display_name": "Python 3 (ipykernel)",
   "language": "python",
   "name": "python3"
  },
  "language_info": {
   "codemirror_mode": {
    "name": "ipython",
    "version": 3
   },
   "file_extension": ".py",
   "mimetype": "text/x-python",
   "name": "python",
   "nbconvert_exporter": "python",
   "pygments_lexer": "ipython3",
   "version": "3.11.0rc1"
  }
 },
 "nbformat": 4,
 "nbformat_minor": 5
}
